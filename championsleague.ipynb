{
 "cells": [
  {
   "cell_type": "markdown",
   "metadata": {},
   "source": [
    "## Process scanned PDFs with tesseract OCR.\n",
    "\n",
    "### Prerequisites \n",
    "* Anaconda, run \"conda env create\" when in project dir to get packages.\n",
    "* ImageMagick. https://imagemagick.org/script/download.php\n",
    "* Possibly only runs on mac."
   ]
  },
  {
   "cell_type": "code",
   "execution_count": null,
   "metadata": {},
   "outputs": [
    {
     "name": "stdout",
     "output_type": "stream",
     "text": [
      "Working on file 1 of 2\n",
      "Working on file 2 of 2\n"
     ]
    }
   ],
   "source": [
    "# Check python version to check that enviroment is correct.\n",
    "# from platform import python_version\n",
    "# print(python_version())\n",
    "\n",
    "import subprocess\n",
    "import os\n",
    "import sys\n",
    "import glob\n",
    "from io import BytesIO\n",
    "from PIL import Image, ImageSequence\n",
    "import pytesseract\n",
    "\n",
    "# saveDir will be where txt files are saved, the pdfPathList should point to PDFs.\n",
    "dir = os.path.dirname(os.path.abspath(\"__file__\"))\n",
    "saveDir = os.path.join(dir, \"Redovisningar/Scan/raw\")\n",
    "pdfPathList = glob.glob(os.path.join(dir, \"Redovisningar/Scan/*.pdf\"))\n",
    "\n",
    "# Function that takes a filePath to a pdf and OCRs text to a txt file at saveDir.\n",
    "def ocrPdf(filePath, saveDir):    \n",
    "    # Use subprocess to access ImageMagick CLI and convert PDF to TIF.\n",
    "    # Send results to stdout.\n",
    "    cmd = [\"convert\", \"-density\", \"300\", filePath, \"-type\", \"TrueColor\", \"tif:-\"]\n",
    "    fconvert = subprocess.Popen(cmd, stdout=subprocess.PIPE, stderr=subprocess.PIPE)\n",
    "    stdout, stderr = fconvert.communicate()\n",
    "    assert fconvert.returncode == 0, stderr\n",
    "    \n",
    "    # Open txt file for output.\n",
    "    file = open(os.path.join(saveDir, os.path.basename(filePath)[:-3] + \"txt\"), \"w\")\n",
    "    \n",
    "    # Convert TIF in stdout into BytesIO object to read with pillow\n",
    "    # Iterate through TIF pages and scan with OCR, write results to file. \n",
    "    with Image.open(BytesIO(stdout)) as image:\n",
    "        for i, page in enumerate(ImageSequence.Iterator(image)):\n",
    "            file.write(pytesseract.image_to_string(page))\n",
    "    \n",
    "    # We are done, close file.\n",
    "    file.close()\n",
    "\n",
    "\n",
    "# Main stuff, go through list of PDF and call ocrPdf.\n",
    "i = 1\n",
    "for pdfPath in pdfPathList:\n",
    "    print(\"Working on file \" + str(i) + \" of \" + str(len(pdfPathList)))\n",
    "    ocrPdf(pdfPath, saveDir)\n",
    "    i = i + 1\n",
    "    \n",
    "print(\"Done!\")"
   ]
  },
  {
   "cell_type": "code",
   "execution_count": null,
   "metadata": {},
   "outputs": [],
   "source": []
  },
  {
   "cell_type": "code",
   "execution_count": null,
   "metadata": {},
   "outputs": [],
   "source": []
  },
  {
   "cell_type": "code",
   "execution_count": null,
   "metadata": {},
   "outputs": [],
   "source": []
  }
 ],
 "metadata": {
  "kernelspec": {
   "display_name": "Python 3",
   "language": "python",
   "name": "python3"
  },
  "language_info": {
   "codemirror_mode": {
    "name": "ipython",
    "version": 3
   },
   "file_extension": ".py",
   "mimetype": "text/x-python",
   "name": "python",
   "nbconvert_exporter": "python",
   "pygments_lexer": "ipython3",
   "version": "3.7.7"
  }
 },
 "nbformat": 4,
 "nbformat_minor": 4
}
